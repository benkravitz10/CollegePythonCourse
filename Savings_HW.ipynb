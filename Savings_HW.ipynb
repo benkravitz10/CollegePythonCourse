{
  "nbformat": 4,
  "nbformat_minor": 0,
  "metadata": {
    "colab": {
      "name": "Savings HW.ipynb",
      "provenance": [],
      "collapsed_sections": []
    },
    "kernelspec": {
      "name": "python3",
      "display_name": "Python 3"
    },
    "language_info": {
      "name": "python"
    }
  },
  "cells": [
    {
      "cell_type": "markdown",
      "metadata": {
        "id": "sce0RptosCt-"
      },
      "source": [
        "#This block of text is so I can remember the equations required for this homework assignment. Pay no attention to it.\n",
        "1. future value / ((1 + interest value) ^ years) = present value\n",
        "2. principle ( 1 + interest ) ^ years"
      ]
    },
    {
      "cell_type": "markdown",
      "metadata": {
        "id": "JHYyNAULBWoS"
      },
      "source": [
        "#The following code determines what you will need to invest to achieve a certain amount of interest earned, determined by the user."
      ]
    },
    {
      "cell_type": "code",
      "metadata": {
        "colab": {
          "base_uri": "https://localhost:8080/"
        },
        "id": "ml3A6l3ztn8s",
        "outputId": "4382c658-9959-420c-8f8f-3217c7705b03"
      },
      "source": [
        "fv = float(input(\"What is your target total?: \"))\n",
        "numYears = float(input(\"How many years did you want to go by?: \"))\n",
        "interest = float(input(\"What is the interest rate as a decimal?: \"))\n",
        "o = fv/((1+interest)**numYears)\n",
        "\n",
        "print(f\"You should invest about ${o}\")"
      ],
      "execution_count": 1,
      "outputs": [
        {
          "output_type": "stream",
          "name": "stdout",
          "text": [
            "What is your target total?: 25000\n",
            "How many years did you want to go by?:12\n",
            "What is the interest rate?:.05\n",
            "You should invest about $13920.93545443898\n"
          ]
        }
      ]
    },
    {
      "cell_type": "markdown",
      "metadata": {
        "id": "kCOdZFTtCeJ-"
      },
      "source": [
        "#The following code determines what the total amount of money you will have over a certain period of time with the money the user plans to invest."
      ]
    },
    {
      "cell_type": "code",
      "metadata": {
        "colab": {
          "base_uri": "https://localhost:8080/"
        },
        "id": "X10Evnwfsxn2",
        "outputId": "aea54cc5-3041-4a2f-fe8d-be05507071d2"
      },
      "source": [
        "p = float(input(\"How much are you planning to deposit?: \"))\n",
        "i = float(input(\"What is the interest rate as a decimal?: \"))\n",
        "years = float(input(\"How many years will have passed?: \"))\n",
        "o = p*(1+i)**years\n",
        "print(f\"Your total, after interest and {years} years is to be about ${o}\")"
      ],
      "execution_count": 2,
      "outputs": [
        {
          "output_type": "stream",
          "name": "stdout",
          "text": [
            "How much are you planning to deposit?: 25\n",
            "What is the interest rate?: .03\n",
            "How many years will have passed?: 4\n",
            "Your total, after interest and 4.0 years is to be about $28.137720250000005\n"
          ]
        }
      ]
    }
  ]
}