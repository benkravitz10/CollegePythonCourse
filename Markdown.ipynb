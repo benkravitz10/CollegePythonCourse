{
  "nbformat": 4,
  "nbformat_minor": 0,
  "metadata": {
    "colab": {
      "name": "Markdown.ipynb",
      "provenance": [],
      "collapsed_sections": [],
      "authorship_tag": "ABX9TyMS7kDyf79bO9k4MklUuYbD",
      "include_colab_link": true
    },
    "kernelspec": {
      "name": "python3",
      "display_name": "Python 3"
    },
    "language_info": {
      "name": "python"
    }
  },
  "cells": [
    {
      "cell_type": "markdown",
      "metadata": {
        "id": "view-in-github",
        "colab_type": "text"
      },
      "source": [
        "<a href=\"https://colab.research.google.com/github/benkravitz10/CollegePythonCourse/blob/main/Markdown.ipynb\" target=\"_parent\"><img src=\"https://colab.research.google.com/assets/colab-badge.svg\" alt=\"Open In Colab\"/></a>"
      ]
    },
    {
      "cell_type": "markdown",
      "metadata": {
        "id": "02r1sGw9DYZP"
      },
      "source": [
        "#**My name is Ben Kravitz.**\n",
        "##I am an avid hockey fan, specifically a *New York Rangers* fan.\n",
        "\n",
        "I have *a lot* of hockey jerseys, nearly 50.\n",
        "\n",
        "I'm also currently working on making *my own* video game with C# in Unity."
      ]
    }
  ]
}