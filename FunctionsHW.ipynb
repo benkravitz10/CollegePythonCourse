{
  "nbformat": 4,
  "nbformat_minor": 0,
  "metadata": {
    "colab": {
      "name": "FunctionsHW.ipynb",
      "provenance": [],
      "collapsed_sections": []
    },
    "kernelspec": {
      "name": "python3",
      "display_name": "Python 3"
    },
    "language_info": {
      "name": "python"
    }
  },
  "cells": [
    {
      "cell_type": "markdown",
      "metadata": {
        "id": "3UuGC0t90dUi"
      },
      "source": [
        "\n",
        "##(1) Average\n",
        "\n"
      ]
    },
    {
      "cell_type": "code",
      "metadata": {
        "colab": {
          "base_uri": "https://localhost:8080/"
        },
        "id": "Xa3o_c4G0Yby",
        "outputId": "daaa0fbc-344e-4f2e-eefb-467b6c2ae808"
      },
      "source": [
        "def average(x, y):\n",
        "  return ((x + y) / 2)\n",
        "\n",
        "print(average(5, 4))"
      ],
      "execution_count": null,
      "outputs": [
        {
          "output_type": "stream",
          "name": "stdout",
          "text": [
            "4.5\n"
          ]
        }
      ]
    },
    {
      "cell_type": "markdown",
      "metadata": {
        "id": "aybo_-8g0zVI"
      },
      "source": [
        "##(2) Sum"
      ]
    },
    {
      "cell_type": "code",
      "metadata": {
        "id": "rEeeNlq804nk"
      },
      "source": [
        "def sum(x,y):\n",
        "  total = 0\n",
        "  if(x < y):\n",
        "    for x in range(x , y + 1):\n",
        "      total = total + x\n",
        "  elif(y < x):\n",
        "    for y in range(y, x + 1):\n",
        "      total = total + y\n",
        "  print(total)\n",
        "\n",
        "sum(8,7)\n",
        "\n"
      ],
      "execution_count": null,
      "outputs": []
    },
    {
      "cell_type": "markdown",
      "metadata": {
        "id": "gY6x5g6H5Uge"
      },
      "source": [
        "##(3) Cost of Item"
      ]
    },
    {
      "cell_type": "code",
      "metadata": {
        "colab": {
          "base_uri": "https://localhost:8080/"
        },
        "id": "fyMddJYI5ZNq",
        "outputId": "f7c40294-8758-43e1-8e52-b249a1295c50"
      },
      "source": [
        "def totalCost(itemCost, percentOff, taxAdd):\n",
        "  percentConversion = percentOff/100\n",
        "  percent = 1 - percentConversion\n",
        "  itemCostWDiscount = itemCost * percent\n",
        "  \n",
        "  taxConversion = taxAdd/100\n",
        "  tax = 1 + taxConversion\n",
        "  \n",
        "  itemCostWTax = itemCostWDiscount * tax\n",
        "  print(itemCostWTax)\n",
        "\n",
        "totalCost(24, 40, 8)"
      ],
      "execution_count": 24,
      "outputs": [
        {
          "output_type": "stream",
          "name": "stdout",
          "text": [
            "15.552\n"
          ]
        }
      ]
    },
    {
      "cell_type": "markdown",
      "metadata": {
        "id": "rOIWga8G1iBS"
      },
      "source": [
        "##(4) Prime Number Generator"
      ]
    },
    {
      "cell_type": "code",
      "metadata": {
        "colab": {
          "base_uri": "https://localhost:8080/"
        },
        "id": "pOpK5kJS1lkx",
        "outputId": "ba36c6e7-8d4f-4b7b-9190-9c1c2d2762e9"
      },
      "source": [
        "def isPrime(num):\n",
        "  for i in range(2, num):\n",
        "    if(num % i == 0):\n",
        "      return False\n",
        "  return True\n",
        "\n",
        "def listPrimes(x,y):\n",
        "  for i in range(x , y + 1):\n",
        "    if (isPrime(i)):\n",
        "      print(i, end = \" | \")\n",
        "\n",
        "listPrimes(2,1000)"
      ],
      "execution_count": null,
      "outputs": [
        {
          "output_type": "stream",
          "name": "stdout",
          "text": [
            "2 | 3 | 5 | 7 | 11 | 13 | 17 | 19 | 23 | 29 | 31 | 37 | 41 | 43 | 47 | 53 | 59 | 61 | 67 | 71 | 73 | 79 | 83 | 89 | 97 | 101 | 103 | 107 | 109 | 113 | 127 | 131 | 137 | 139 | 149 | 151 | 157 | 163 | 167 | 173 | 179 | 181 | 191 | 193 | 197 | 199 | 211 | 223 | 227 | 229 | 233 | 239 | 241 | 251 | 257 | 263 | 269 | 271 | 277 | 281 | 283 | 293 | 307 | 311 | 313 | 317 | 331 | 337 | 347 | 349 | 353 | 359 | 367 | 373 | 379 | 383 | 389 | 397 | 401 | 409 | 419 | 421 | 431 | 433 | 439 | 443 | 449 | 457 | 461 | 463 | 467 | 479 | 487 | 491 | 499 | 503 | 509 | 521 | 523 | 541 | 547 | 557 | 563 | 569 | 571 | 577 | 587 | 593 | 599 | 601 | 607 | 613 | 617 | 619 | 631 | 641 | 643 | 647 | 653 | 659 | 661 | 673 | 677 | 683 | 691 | 701 | 709 | 719 | 727 | 733 | 739 | 743 | 751 | 757 | 761 | 769 | 773 | 787 | 797 | 809 | 811 | 821 | 823 | 827 | 829 | 839 | 853 | 857 | 859 | 863 | 877 | 881 | 883 | 887 | 907 | 911 | 919 | 929 | 937 | 941 | 947 | 953 | 967 | 971 | 977 | 983 | 991 | 997 | "
          ]
        }
      ]
    },
    {
      "cell_type": "markdown",
      "metadata": {
        "id": "xf07YRmS5k7C"
      },
      "source": [
        "##(5) Co-Prime Generator"
      ]
    },
    {
      "cell_type": "code",
      "metadata": {
        "colab": {
          "base_uri": "https://localhost:8080/"
        },
        "id": "DjFq_Dw93vqd",
        "outputId": "1402c143-83bd-4fd8-a9ba-cb25ae3be2b2"
      },
      "source": [
        "def coPrimeTest(num1, num2):\n",
        "  for i in range(2,num2+1):\n",
        "    if (num1 % i == 0 and num2 % i == 0):\n",
        "      return False\n",
        "  return True\n",
        "\n",
        "def listCoPrimes(x):\n",
        "  print(1)\n",
        "  for i in range(2,x):\n",
        "    if(coPrimeTest(x, i)):\n",
        "      print(i)\n",
        "\n",
        "listCoPrimes(12)"
      ],
      "execution_count": null,
      "outputs": [
        {
          "output_type": "stream",
          "name": "stdout",
          "text": [
            "1\n",
            "5\n",
            "7\n",
            "11\n"
          ]
        }
      ]
    },
    {
      "cell_type": "markdown",
      "metadata": {
        "id": "pJVDwSZS5yY3"
      },
      "source": [
        "##(6) Count the number of Co-Primes"
      ]
    },
    {
      "cell_type": "code",
      "metadata": {
        "colab": {
          "base_uri": "https://localhost:8080/"
        },
        "id": "MHT5oEy853_B",
        "outputId": "1a35a033-2b2c-4abf-db2c-fc46e8df7cd4"
      },
      "source": [
        "def countCoPrimes(x):\n",
        "  counter = 0\n",
        "  for i in range(1,x):\n",
        "    if(coPrimeTest(x, i)):\n",
        "      counter = counter + 1\n",
        "  print(counter)\n",
        "\n",
        "countCoPrimes(12)"
      ],
      "execution_count": null,
      "outputs": [
        {
          "output_type": "stream",
          "name": "stdout",
          "text": [
            "4\n"
          ]
        }
      ]
    },
    {
      "cell_type": "markdown",
      "metadata": {
        "id": "CJFYydWO6NlS"
      },
      "source": [
        "##(7) Twin Primes"
      ]
    },
    {
      "cell_type": "code",
      "metadata": {
        "colab": {
          "base_uri": "https://localhost:8080/"
        },
        "id": "6LdXsCJJ6QFa",
        "outputId": "36031c55-107e-4391-86a3-81e066105b74"
      },
      "source": [
        "def isTwinPrime(x):\n",
        "  if (isPrime(x) and isPrime(x+2)):\n",
        "    return True\n",
        "  return False\n",
        "\n",
        "def listTwinPrimes(x , y):\n",
        "  for i in range(x , y + 1):\n",
        "    if(isTwinPrime(i)):\n",
        "      print(i, \" \", i + 2)\n",
        "      i+=2\n",
        "\n",
        "listTwinPrimes(2, 100)"
      ],
      "execution_count": null,
      "outputs": [
        {
          "output_type": "stream",
          "name": "stdout",
          "text": [
            "3   5  | \n",
            "5   7  | \n",
            "11   13  | \n",
            "17   19  | \n",
            "29   31  | \n",
            "41   43  | \n",
            "59   61  | \n",
            "71   73  | \n"
          ]
        }
      ]
    },
    {
      "cell_type": "markdown",
      "metadata": {
        "id": "7Lol5te57uIU"
      },
      "source": [
        "##(8) Rock, Paper, Scissors"
      ]
    },
    {
      "cell_type": "code",
      "metadata": {
        "colab": {
          "base_uri": "https://localhost:8080/"
        },
        "id": "ggTKFCyg7o7D",
        "outputId": "688d8f47-8998-4f39-89ec-3cec2a853887"
      },
      "source": [
        "import random as r\n",
        "\n",
        "#Rock is 1\n",
        "#Paper is 2\n",
        "#Scissors is 3\n",
        "def rockPaperScissors():\n",
        "  rockWinCount = 0\n",
        "  paperWinCount = 0\n",
        "  scissorsWinCount = 0\n",
        "  drawCount = 0\n",
        "\n",
        "  for i in range(10000):\n",
        "    num1 = r.randint(1,3)\n",
        "    num2 = r.randint(1,3)\n",
        "\n",
        "    if(num1 == num2):\n",
        "      continue\n",
        "    elif(num1 == 1 and num2 == 2):\n",
        "      paperWinCount += 1\n",
        "    elif(num1 == 1 and num2 == 3):\n",
        "      rockWinCount += 1\n",
        "    elif(num1 == 2 and num2 == 3):\n",
        "      scissorsWinCount += 1\n",
        "    elif(num1 == 2 and num2 == 1):\n",
        "      paperWinCount += 1\n",
        "    elif(num1 == 3 and num2 == 2):\n",
        "      scissorsWinCount += 1\n",
        "    elif(num1 == 3 and num2 == 1):\n",
        "      rockWinCount += 1\n",
        "    \n",
        "  print(\"Rock Win Percentage: \", rockWinCount/10000)\n",
        "  print(\"Paper Win Percentage: \", paperWinCount/10000)\n",
        "  print(\"Scissors Win Percentage: \", scissorsWinCount/10000)\n",
        "\n",
        "rockPaperScissors()\n"
      ],
      "execution_count": 6,
      "outputs": [
        {
          "output_type": "stream",
          "name": "stdout",
          "text": [
            "Draw Percentage:  0.3325\n",
            "Rock Win Percentage:  0.2291\n",
            "Paper Win Percentage:  0.2263\n",
            "Scissors Win Percentage:  0.2121\n"
          ]
        }
      ]
    }
  ]
}