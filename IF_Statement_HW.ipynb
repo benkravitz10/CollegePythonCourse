{
  "nbformat": 4,
  "nbformat_minor": 0,
  "metadata": {
    "colab": {
      "name": "IF Statement HW.ipynb",
      "provenance": [],
      "collapsed_sections": [],
      "toc_visible": true
    },
    "kernelspec": {
      "name": "python3",
      "display_name": "Python 3"
    },
    "language_info": {
      "name": "python"
    }
  },
  "cells": [
    {
      "cell_type": "markdown",
      "metadata": {
        "id": "LTA0JSR_XYBY"
      },
      "source": [
        "#This program determines the quantity discount on the certain quantity ordered"
      ]
    },
    {
      "cell_type": "code",
      "metadata": {
        "colab": {
          "base_uri": "https://localhost:8080/"
        },
        "id": "DCASPJB0XQeF",
        "outputId": "324e70c8-4a9b-481b-8e3b-fe7ec0e7ba77"
      },
      "source": [
        "quantityOrdered = float(input(\"How many packages are you ordering?: \"))\n",
        "price = 99\n",
        "\n",
        "#No discount (0-10)\n",
        "if quantityOrdered < 10.0:\n",
        "  total = (quantityquantityOrdered * price)\n",
        "  totalCurrency = \"${:,.2f}\".format(total)\n",
        "  print(f\"You don't qualify for a discount. Your total is {totalCurrency}\")\n",
        "\n",
        "#10% discount (10-19)\n",
        "elif ((quantityOrdered >= 10) and (quantityOrdered <= 19)):\n",
        "  discount = .90\n",
        "  total = (quantityOrdered * price) * discount\n",
        "  totalCurrency = \"${:,.2f}\".format(total)\n",
        "  print(f\"You qualify for a 10% discount. Your total is {totalCurrency}\")\n",
        "\n",
        "#20% discount (20-49)\n",
        "elif ((quantityOrdered >= 20) and (quantityOrdered <= 49)):\n",
        "  discount = .80\n",
        "  total = (quantityOrdered * price) * discount\n",
        "  totalCurrency = \"${:,.2f}\".format(total)\n",
        "  print(f\"You qualify for a 20% discount. Your total is {totalCurrency}\")\n",
        "\n",
        "#30% discount (50-99)\n",
        "elif ((quantityOrdered >= 50) and (quantityOrdered <= 99)):\n",
        "  discount = .70\n",
        "  total = (quantityOrdered * price) * discount\n",
        "  totalCurrency = \"${:,.2f}\".format(total)\n",
        "  print(f\"You qualify for a 30% discount. Your total is {totalCurrency}\")\n",
        "\n",
        "#40% discount (> 100)\n",
        "elif quantityOrdered >= 100:\n",
        "  discount = .60\n",
        "  total = (quantityOrdered * price) * discount\n",
        "  totalCurrency = \"${:,.2f}\".format(total)\n",
        "  print(f\"You qualify for a 40% discount. Your total is {totalCurrency}\")  "
      ],
      "execution_count": 28,
      "outputs": [
        {
          "output_type": "stream",
          "name": "stdout",
          "text": [
            "How many packages are you ordering?: 45\n",
            "You qualify for a 20% discount. Your total is $3,564.00\n"
          ]
        }
      ]
    },
    {
      "cell_type": "markdown",
      "metadata": {
        "id": "wcUkHD0IbMOM"
      },
      "source": [
        "#This program determines the rate per pound of the package the user inputs"
      ]
    },
    {
      "cell_type": "code",
      "metadata": {
        "colab": {
          "base_uri": "https://localhost:8080/"
        },
        "id": "brVpbRiLbhXu",
        "outputId": "37bdea53-30a3-4ff0-b679-84bef172f419"
      },
      "source": [
        "pounds = float(input(\"How many pounds is your package?: \"))\n",
        "\n",
        "#2 pounds or less, $1.50/lb\n",
        "if pounds <= 2:\n",
        "  ratePerPound = 1.50\n",
        "  rateCurrency = \"${:,.2f}\".format(ratePerPound)\n",
        "  total = (ratePerPound * pounds)\n",
        "  currency = \"${:,.2f}\".format(total)\n",
        " \n",
        "  print(f\"Your rate is {rateCurrency} per pound. Your total is {currency}\")\n",
        "\n",
        "#2-6 pounds, $3.00/lb\n",
        "elif (pounds > 2) and (pounds <= 6):\n",
        "  ratePerPound = 3.00\n",
        "  rateCurrency = \"${:,.2f}\".format(ratePerPound)\n",
        "  total = (ratePerPound * pounds)\n",
        "  currency = \"${:,.2f}\".format(total)\n",
        " \n",
        "  print(f\"Your rate is {rateCurrency} per pound. Your total is {currency}\")\n",
        "\n",
        "#6-10 pounds, $4.00/lb\n",
        "elif (pounds > 6) and (pounds <= 10):\n",
        "  ratePerPound = 4.00\n",
        "  rateCurrency = \"${:,.2f}\".format(ratePerPound)\n",
        "  total = (ratePerPound * pounds)\n",
        "  currency = \"${:,.2f}\".format(total)\n",
        " \n",
        "  print(f\"Your rate is {rateCurrency} per pound. Your total is {currency}\")\n",
        "\n",
        "#10 or more pounds, $4.75/lb\n",
        "if pounds > 10:\n",
        "  ratePerPound = 4.75\n",
        "  rateCurrency = \"${:,.2f}\".format(ratePerPound)\n",
        "  total = (ratePerPound * pounds)\n",
        "  currency = \"${:,.2f}\".format(total)\n",
        " \n",
        "  print(f\"Your rate is {rateCurrency} per pound. Your total is {currency}\")"
      ],
      "execution_count": 34,
      "outputs": [
        {
          "output_type": "stream",
          "name": "stdout",
          "text": [
            "How many pounds is your package?: 1\n",
            "Your rate is $1.50 per pound. Your total is $1.50\n"
          ]
        }
      ]
    }
  ]
}